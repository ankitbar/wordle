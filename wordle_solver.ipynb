{
 "cells": [
  {
   "cell_type": "code",
   "execution_count": 1,
   "id": "e6b268ac-57e8-41c8-b776-bd27754f8ac6",
   "metadata": {},
   "outputs": [],
   "source": [
    "import os\n",
    "import json\n",
    "import wget\n",
    "import pandas as pd\n",
    "from wordle_game import WordleGame"
   ]
  },
  {
   "cell_type": "code",
   "execution_count": 2,
   "id": "c0f1089b-4f57-4d4f-b344-5b255ebc91cf",
   "metadata": {},
   "outputs": [],
   "source": [
    "# Load relevant files\n",
    "source_file = 'dictionary.json'\n",
    "myurl = f\"https://raw.githubusercontent.com/matthewreagan/WebstersEnglishDictionary/master/{source_file}\"\n",
    "\n",
    "if not(os.path.exists(source_file)):\n",
    "    wget.download(myurl , os.getcwd())\n",
    "\n",
    "mod_dict_file = 'words_dictionary_length.json'\n",
    "\n",
    "if not(os.path.exists(mod_dict_file)):\n",
    "\n",
    "    with open(source_file,'r', encoding='utf-8') as word_dict_file:\n",
    "        WORD_DICT_ORIG = json.load(word_dict_file)\n",
    "\n",
    "    WORD_DICT = {}\n",
    "\n",
    "    for key in WORD_DICT_ORIG.keys():\n",
    "        WORD_DICT[key] = len(key)\n",
    "\n",
    "    with open(mod_dict_file, 'w') as f:\n",
    "        json.dump(WORD_DICT, f)\n",
    "else:\n",
    "    with open(mod_dict_file) as word_len_dict_file:\n",
    "        WORD_DICT = json.load(word_len_dict_file)"
   ]
  },
  {
   "cell_type": "code",
   "execution_count": 3,
   "id": "274beb11-3513-4323-89bd-00905608e5a0",
   "metadata": {
    "jupyter": {
     "source_hidden": true
    }
   },
   "outputs": [],
   "source": [
    "def random_solver(newGame:WordleGame, print_guess = False):\n",
    "    guess_list = []\n",
    "    current_guess = newGame._sample_random_word()\n",
    "    guess_list.append(current_guess)\n",
    "    while current_guess != newGame.target_word:\n",
    "        newGame._update_guess_set(current_guess, print_guess)\n",
    "        current_guess = newGame._sample_random_word()\n",
    "        print(f\"Current guess is:{current_guess}\")\n",
    "        guess_list.append(current_guess)\n",
    "\n",
    "    return current_guess, guess_list"
   ]
  },
  {
   "cell_type": "code",
   "execution_count": 4,
   "id": "eddb85e3-4a88-4462-a746-2141b6c4b748",
   "metadata": {},
   "outputs": [],
   "source": [
    "def letter_frequency_solver(newGame:WordleGame, letter_freuqency: pd.DataFrame, print_guess = False):\n",
    "    # guess_list = []\n",
    "    # current_guess = newGame._sample_random_word()\n",
    "    # guess_list.append(current_guess)\n",
    "    pass"
   ]
  },
  {
   "cell_type": "code",
   "execution_count": 5,
   "id": "9c9fc218-ed3a-427e-b4ef-b1ba682cdc41",
   "metadata": {},
   "outputs": [
    {
     "data": {
      "text/plain": [
       "'evoke'"
      ]
     },
     "execution_count": 5,
     "metadata": {},
     "output_type": "execute_result"
    }
   ],
   "source": [
    "newGame = WordleGame(5,WORD_DICT)\n",
    "newGame._set_target_word('evoke')\n",
    "newGame.target_word"
   ]
  },
  {
   "cell_type": "code",
   "execution_count": 6,
   "id": "5b407d3d-280d-4378-965b-d3004af1c2e0",
   "metadata": {
    "scrolled": true
   },
   "outputs": [
    {
     "name": "stdout",
     "output_type": "stream",
     "text": [
      "Current guess is:spyne\n",
      "Current guess is:braze\n",
      "Current guess is:exode\n",
      "Current guess is:eloge\n",
      "Current guess is:evoke\n"
     ]
    },
    {
     "data": {
      "text/plain": [
       "('evoke', ['cumic', 'spyne', 'braze', 'exode', 'eloge', 'evoke'])"
      ]
     },
     "execution_count": 6,
     "metadata": {},
     "output_type": "execute_result"
    }
   ],
   "source": [
    "random_solver(newGame)"
   ]
  }
 ],
 "metadata": {
  "kernelspec": {
   "display_name": "Python 3 (ipykernel)",
   "language": "python",
   "name": "python3"
  },
  "language_info": {
   "codemirror_mode": {
    "name": "ipython",
    "version": 3
   },
   "file_extension": ".py",
   "mimetype": "text/x-python",
   "name": "python",
   "nbconvert_exporter": "python",
   "pygments_lexer": "ipython3",
   "version": "3.7.9"
  }
 },
 "nbformat": 4,
 "nbformat_minor": 5
}

{
 "cells": [
  {
   "cell_type": "code",
   "execution_count": 3,
   "id": "e6b268ac-57e8-41c8-b776-bd27754f8ac6",
   "metadata": {},
   "outputs": [],
   "source": [
    "import os\n",
    "import json\n",
    "import wget\n",
    "import string\n",
    "import numpy as np\n",
    "import pandas as pd"
   ]
  },
  {
   "cell_type": "code",
   "execution_count": 2,
   "id": "0a3965cc-5ce0-4eed-bbae-2e8d39be43a0",
   "metadata": {},
   "outputs": [
    {
     "name": "stdout",
     "output_type": "stream",
     "text": [
      "100% [..................................................................................] 273 / 273"
     ]
    },
    {
     "data": {
      "text/plain": [
       "'/storage/emulated/0/Android/data/ru.iiec.pydroid3/files/letter_frequency.csv'"
      ]
     },
     "execution_count": 2,
     "metadata": {},
     "output_type": "execute_result"
    }
   ],
   "source": [
    "wget.download(\"https://filebin.net/s1u1ezjdong2rn2a/letter_frequency.csv\", os.getcwd())"
   ]
  },
  {
   "cell_type": "code",
   "execution_count": 4,
   "id": "f1433afb-b53c-4131-9de4-284d76a246ea",
   "metadata": {},
   "outputs": [],
   "source": [
    "letter_frequency = pd.read_csv(\"letter_frequency.csv\")"
   ]
  },
  {
   "cell_type": "code",
   "execution_count": 6,
   "id": "adbcf3aa-5279-4496-9614-2ec5d0f1f048",
   "metadata": {},
   "outputs": [],
   "source": [
    "letter_frequency['Letter'] = letter_frequency['Letter'].str.lower()"
   ]
  },
  {
   "cell_type": "code",
   "execution_count": 2,
   "id": "c0f1089b-4f57-4d4f-b344-5b255ebc91cf",
   "metadata": {},
   "outputs": [],
   "source": [
    "# One time activity\n",
    "# myurl = \"https://raw.githubusercontent.com/matthewreagan/WebstersEnglishDictionary/master/dictionary.json\"\n",
    "# wget.download(myurl , os.getcwd())\n",
    "\n",
    "source_file = 'dictionary.json'\n",
    "\n",
    "with open(source_file) as word_dict_url:\n",
    "    WORD_DICT_ORIG = json.load(word_dict_url)\n",
    "\n",
    "WORD_DICT = {}\n",
    "\n",
    "for key in WORD_DICT_ORIG.keys():\n",
    "    WORD_DICT[key] = len(key)\n",
    "\n",
    "# dict_modified = 'words_dictionary_length.json'\n",
    "# with open(dict_modified, 'w') as f:\n",
    "#     json.dump(WORD_DICT, f)"
   ]
  },
  {
   "cell_type": "code",
   "execution_count": 3,
   "id": "520ddcd7-dc58-4657-aedb-deae4fc38b63",
   "metadata": {},
   "outputs": [],
   "source": [
    "# source_file = 'words_dictionary_length.json'\n",
    "\n",
    "# with open(source_file) as f:\n",
    "#     WORD_DICT = json.load(f)"
   ]
  },
  {
   "cell_type": "code",
   "execution_count": 4,
   "id": "666b512d-fcb0-4e34-b9f9-9b1d57054ff1",
   "metadata": {},
   "outputs": [
    {
     "data": {
      "text/plain": [
       "'An impure, massive, flintlike quartz or hornstone, of a dull color.'"
      ]
     },
     "execution_count": 4,
     "metadata": {},
     "output_type": "execute_result"
    }
   ],
   "source": [
    "WORD_DICT_ORIG['chert']"
   ]
  },
  {
   "cell_type": "code",
   "execution_count": 5,
   "id": "52edc3dd-b336-4c85-a4d2-b70f549e7f95",
   "metadata": {},
   "outputs": [],
   "source": [
    "class WordleGame:\n",
    "    def __init__(self, word_len:int, word_dict:dict):\n",
    "        self.word_len = word_len\n",
    "        self.word_dict = word_dict\n",
    "        self._allowed_chars =  list(string.ascii_lowercase)\n",
    "        self.available_chars = set(string.ascii_lowercase)\n",
    "        self.letter_freq_dict = dict(zip(self._allowed_chars, [0 for i in range(len(self._allowed_chars))]))\n",
    "        feasible_word_list = [y for y in word_dict.keys() if word_dict[y] == word_len]\n",
    "        # feasible_word_list = [y for y in feasible_word_list if len(y) == len(set(y))]\n",
    "        self.feasible_word_list = feasible_word_list\n",
    "        # self.num_feasible_words = len(feasible_word_list)\n",
    "        self.current_guess = [None for i in range(word_len)]\n",
    "        self.correct_charset = set()\n",
    "        self.negative_charset = set()\n",
    "        self.misplaced_char_dict = {}\n",
    "        self.rounds = 0\n",
    "\n",
    "    def _get_word_len_from_dict(self, candidate_word: str):\n",
    "        word_dict = self.word_dict\n",
    "        try:\n",
    "            response_val = word_dict[candidate_word]\n",
    "        except Exception as e:\n",
    "            # print(e)\n",
    "            response_val = 0\n",
    "\n",
    "        return response_val\n",
    "\n",
    "    def _sample_random_word(self):\n",
    "        num_feasible_words = len(self.feasible_word_list)\n",
    "        if num_feasible_words >1:\n",
    "            idx = np.random.randint(0,num_feasible_words-1)\n",
    "        else:\n",
    "            idx = 0\n",
    "        return (self.feasible_word_list)[idx]\n",
    "\n",
    "    def _set_target_word(self, target_word = None):\n",
    "        if target_word is not None:\n",
    "            self.target_word = target_word\n",
    "        else:\n",
    "            self.target_word = self._sample_random_word()\n",
    "\n",
    "    def _check_word(self, candidate_word: str):\n",
    "        cand_word_list = list(candidate_word)\n",
    "        targ_word_list = list(self.target_word)\n",
    "        word_len = self.word_len\n",
    "\n",
    "        correctly_placed = []\n",
    "        for i in range(word_len):\n",
    "            cand_letter = cand_word_list[i]\n",
    "            if cand_letter == targ_word_list[i]:\n",
    "                self.current_guess[i] = cand_letter\n",
    "                correctly_placed.append(cand_letter)\n",
    "            elif cand_letter in targ_word_list:\n",
    "                self.misplaced_char_dict[cand_letter] = i\n",
    "\n",
    "        letter_compare = [cand_word_list[i] in targ_word_list for i in range(word_len)]\n",
    "    \n",
    "        return letter_compare\n",
    "\n",
    "    def _update_available_chars(self, candidate_word: str):\n",
    "        letter_compare = self._check_word(candidate_word)\n",
    "        candidate_word_list = list(candidate_word)\n",
    "        word_len = self.word_len\n",
    "        \n",
    "        #Get letters to exclude\n",
    "        letters_to_exclude = set([candidate_word_list[i] for i in range(word_len) if not(letter_compare[i])])\n",
    "        # print(letters_to_exclude)\n",
    "        available_chars = self.available_chars\n",
    "        self.available_chars = available_chars - letters_to_exclude\n",
    "        self.negative_charset.update(letters_to_exclude)\n",
    "        \n",
    "        #Get set of correct letters and their positions\n",
    "        letters_to_include = set([candidate_word_list[i] for i in range(word_len) if letter_compare[i]])\n",
    "        self.correct_charset.update(letters_to_include)\n",
    "\n",
    "    \n",
    "    def _update_guess_set(self, candidate_word:str, print_word = False):\n",
    "        self._update_available_chars(candidate_word)\n",
    "        feasible_word_list = self.feasible_word_list\n",
    "        word_len = self.word_len\n",
    "        current_guess = self.current_guess\n",
    "        correct_charset = self.correct_charset\n",
    "        negative_charset = self.negative_charset\n",
    "        misplaced_char_dict = self.misplaced_char_dict\n",
    "\n",
    "        # First remove words containing negative characters\n",
    "        if negative_charset != set():\n",
    "            feasible_word_list = [x for x in feasible_word_list if negative_charset.intersection(set(list(x))) == set()]\n",
    "        \n",
    "        if current_guess != [None for i in range(self.word_len)]:\n",
    "            idx_to_check = [i for i in range(word_len) if current_guess[i] is not None]\n",
    "            feasible_word_list_mod = [''.join(s[j] for j in idx_to_check) for s in feasible_word_list]\n",
    "            guess_mod = ''.join(current_guess[j] for j in idx_to_check)\n",
    "            feasible_word_list = [feasible_word_list[i] for i in range(len(feasible_word_list)) if feasible_word_list_mod[i] == guess_mod]\n",
    "        \n",
    "        if correct_charset != set():\n",
    "            feasible_word_list = [x for x in feasible_word_list if correct_charset.issubset(set(list(x)))]\n",
    "\n",
    "        if misplaced_char_dict != {}:\n",
    "            for misplaced_char, pos in misplaced_char_dict.items():\n",
    "                feasible_word_list = [x for x in feasible_word_list if x[pos] != misplaced_char]\n",
    "        \n",
    "        self.feasible_word_list = feasible_word_list\n",
    "        if print_word:\n",
    "            print(current_guess)\n",
    "\n",
    "    def _subset_by_letters(self, letter_set: set):\n",
    "        return [x for x in self.feasible_word_list if set(x) == letter_set]\n",
    "\n",
    "    def _gen_letter_freq(self):\n",
    "        \n",
    "    \n",
    "    def _high_frequency_guess(self):\n",
    "        "
   ]
  },
  {
   "cell_type": "code",
   "execution_count": 6,
   "id": "274beb11-3513-4323-89bd-00905608e5a0",
   "metadata": {
    "jupyter": {
     "source_hidden": true
    }
   },
   "outputs": [],
   "source": [
    "def random_solver(newGame:WordleGame, print_guess = False):\n",
    "    guess_list = []\n",
    "    current_guess = newGame._sample_random_word()\n",
    "    guess_list.append(current_guess)\n",
    "    while current_guess != newGame.target_word:\n",
    "        newGame._update_guess_set(current_guess, print_guess)\n",
    "        current_guess = newGame._sample_random_word()\n",
    "        print(f\"Current guess is:{current_guess}\")\n",
    "        guess_list.append(current_guess)\n",
    "\n",
    "    return current_guess, guess_list"
   ]
  },
  {
   "cell_type": "code",
   "execution_count": null,
   "id": "fdb031c9-bdf4-48f3-b53e-ebf05486a055",
   "metadata": {},
   "outputs": [],
   "source": []
  },
  {
   "cell_type": "code",
   "execution_count": null,
   "id": "eddb85e3-4a88-4462-a746-2141b6c4b748",
   "metadata": {},
   "outputs": [],
   "source": [
    "def letter_frequency_solver(newGame:WordleGame, letter_freuqency: pd.DataFrame, print_guess = False):\n",
    "    guess_list = []\n",
    "    current_guess = newGame._sample_random_word()\n",
    "    guess_list.append(current_guess)"
   ]
  },
  {
   "cell_type": "code",
   "execution_count": 7,
   "id": "9c9fc218-ed3a-427e-b4ef-b1ba682cdc41",
   "metadata": {},
   "outputs": [
    {
     "data": {
      "text/plain": [
       "'evoke'"
      ]
     },
     "execution_count": 7,
     "metadata": {},
     "output_type": "execute_result"
    }
   ],
   "source": [
    "newGame = WordleGame(5,WORD_DICT)\n",
    "newGame._set_target_word('evoke')\n",
    "newGame.target_word"
   ]
  },
  {
   "cell_type": "code",
   "execution_count": 8,
   "id": "5b407d3d-280d-4378-965b-d3004af1c2e0",
   "metadata": {
    "scrolled": true
   },
   "outputs": [
    {
     "name": "stdout",
     "output_type": "stream",
     "text": [
      "Current guess is:ousel\n",
      "Current guess is:mezzo\n",
      "Current guess is:evoke\n"
     ]
    },
    {
     "data": {
      "text/plain": [
       "('evoke', ['briny', 'ousel', 'mezzo', 'evoke'])"
      ]
     },
     "execution_count": 8,
     "metadata": {},
     "output_type": "execute_result"
    }
   ],
   "source": [
    "random_solver(newGame)"
   ]
  }
 ],
 "metadata": {
  "kernelspec": {
   "display_name": "Python 3 (ipykernel)",
   "language": "python",
   "name": "python3"
  },
  "language_info": {
   "codemirror_mode": {
    "name": "ipython",
    "version": 3
   },
   "file_extension": ".py",
   "mimetype": "text/x-python",
   "name": "python",
   "nbconvert_exporter": "python",
   "pygments_lexer": "ipython3",
   "version": "3.11.4"
  }
 },
 "nbformat": 4,
 "nbformat_minor": 5
}
